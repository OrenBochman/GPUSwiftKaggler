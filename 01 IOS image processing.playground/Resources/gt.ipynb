{
 "cells": [
  {
   "cell_type": "markdown",
   "metadata": {},
   "source": [
    "# Game Theory "
   ]
  },
  {
   "cell_type": "code",
   "execution_count": 26,
   "metadata": {},
   "outputs": [
    {
     "name": "stdout",
     "output_type": "stream",
     "text": [
      "TF version:1.0.1\n"
     ]
    }
   ],
   "source": [
    "%reset -f\n",
    "# ! pip install nashpy gambit hypothesis\n",
    "# ! apt-get install python-tk\n",
    "\n",
    "import tensorflow as tf\n",
    "print('TF version:' + tf.__version__)\n",
    "import tensorflow as tf\n",
    "\n",
    "# force float\n",
    "from __future__ import division\n",
    "\n",
    "    \n",
    "import numpy as np\n"
   ]
  },
  {
   "cell_type": "code",
   "execution_count": 27,
   "metadata": {},
   "outputs": [],
   "source": [
    "import nash\n",
    "from gambit import *\n",
    "from Tkinter import Tk, Button\n",
    "from tkFont import Font\n",
    "from copy import deepcopy\n",
    "\n",
    "import unittest\n",
    "import numpy as np\n",
    "\n",
    "from hypothesis import given\n",
    "from hypothesis.extra.numpy import arrays\n",
    "from hypothesis.strategies import integers"
   ]
  },
  {
   "cell_type": "markdown",
   "metadata": {},
   "source": [
    "# Refs:\n",
    "https://github.com/oyamad/game_theory_models/blob/master/game_theory.ipynb\n",
    "https://www3.nd.edu/~apilking/Math10120/Lectures/Topic%2029.pdf\n",
    "https://github.com/Nikoleta-v3/Game-Theory-and-Python"
   ]
  },
  {
   "cell_type": "markdown",
   "metadata": {},
   "source": [
    "# Definition equilibrium\n",
    "An equilibrium point of a game where both players may use mixed strategies is a pair of mixed strategies such that neither player has any incentive to unilaterally change to another mixed strategy.\n",
    "\n",
    "\n",
    "When searching for optimal mixed strategies for both players, we assume a number of things:\n",
    "-  The pay-off matrix is known to both players.\n",
    "-  Whatever mixed strategy is played by either player can be deduced by the opponent by observation.\n",
    "-  Both players strive to maximize their expected payoff (note that in a zero sum game, the expected payoffs of the players add to zero, therefore maximizing an expected payoff for one player is equivalent to minimizing the expected payoff of the other player).\n",
    "-  Whatever mixed strategy a player chooses, their opponent will choose the best counterstrategy"
   ]
  },
  {
   "cell_type": "markdown",
   "metadata": {},
   "source": [
    "## Minimax Theorem: John Von Neumann \n",
    "\n",
    "For every zero sum game, there is a number ν (for value) and particular mixed strategies (optimal mixed strategies) for both players such that\n",
    "1. The expected payoff to the row player will be at least ν if the row player plays his or her particular mixed strategy, no matter what mixed strategy the column player plays.\n",
    "2. The expected payoff to the row player will be at most ν if the column player plays his or her particular mixed strategy, no matter what strategy the row player chooses. the number ν is called the value of the game and represents the expected advantage to the row player (a disadvantage if ν is negative).\n"
   ]
  },
  {
   "cell_type": "markdown",
   "metadata": {},
   "source": [
    "# Calculating the utility of a pair of strategies"
   ]
  },
  {
   "cell_type": "markdown",
   "metadata": {},
   "source": [
    "## Example :\n",
    "Consider the situation where the payoff matrix for the row player is given by:\n",
    "\n",
    "$$\\begin{split}A =\n",
    "\\begin{pmatrix}\n",
    "     7 & 3 \\\\\n",
    "     2 &  5    \n",
    "\\end{pmatrix}\\end{split}$$\n"
   ]
  },
  {
   "cell_type": "markdown",
   "metadata": {},
   "source": [
    "$$\\begin{split}A =\n",
    "\\begin{pmatrix}\n",
    "     0 & -1 &  1\\\\\n",
    "     1 &  0 & -1\\\\\n",
    "    -1 &  1 &  0\n",
    "\\end{pmatrix}\\end{split}$$"
   ]
  },
  {
   "cell_type": "markdown",
   "metadata": {},
   "source": [
    "If the row player played Scissors (the 3rd strategy) and the column player played Paper (the 2nd strategy) then the row player gets: $A_{32}=1$ because Scissors cuts Paper.\n",
    "\n",
    "A mathematical approach to representing a strategy is to consider a vector of the size: the number of strategies. For example $\\sigma_r=(0, 0, 1)$ and  $\\sigma_r=(0, 1, 0)$ is the row strategy where the row player always plays their third strategy. Similarly σc=(0,1,0)σc=(0,1,0) is the strategy for the column player where they always play their second strategy.\n",
    "\n",
    "When we represent strategies like this we can get the utility to the row player using the following linear algebraic expression:\n",
    "\n",
    "$$\\sigma_r A \\sigma_c^T$$\n"
   ]
  },
  {
   "cell_type": "code",
   "execution_count": 93,
   "metadata": {},
   "outputs": [
    {
     "name": "stdout",
     "output_type": "stream",
     "text": [
      "[[[ 1 -1]]]\n",
      "[[[ 0.  0.]]]\n",
      "[[[ 0.25 -0.25]]]\n"
     ]
    }
   ],
   "source": [
    "A = np.array([[0, -1, 1], [1, 0, -1], [-1, 1, 0]])\n",
    "B = - A\n",
    "\n",
    "# Pure\n",
    "x=np.array([[0, 0, 1]])\n",
    "y=np.array([[0, 1, 0]])\n",
    "\n",
    "# print (A)\n",
    "\n",
    "def calcUtilityNP(x,A,y):\n",
    "    tp1=np.dot(x,A)    \n",
    "    tp1=np.dot(tp1,y.T)\n",
    "    \n",
    "    tp2=np.dot(x,-A)    \n",
    "    tp2=np.dot(tp2,y.T)            \n",
    "    return np.array([tp1,tp2]).T\n",
    "\n",
    "\n",
    "print (calcUtilityNP(x,A,y))\n",
    "\n",
    "x=np.array([[0, 0, 1]])\n",
    "# The column player decides to play Rock and Paper “randomly”.\n",
    "y=np.array([[0.5, .5, 0]])\n",
    "print (calcUtilityNP(x,A,y))\n",
    "\n",
    "x=np.array([[0, 0.5, 0.5]])\n",
    "# The column player decides to play Rock and Paper “randomly”.\n",
    "y=np.array([[0.5, .5, 0]])\n",
    "print (calcUtilityNP(x,A,y))\n",
    "\n",
    "# Compare with http://nashpy.readthedocs.io/en/stable/tutorial/index.html#introduction-to-game-theory"
   ]
  },
  {
   "cell_type": "markdown",
   "metadata": {},
   "source": [
    "# Strictly determined games"
   ]
  },
  {
   "cell_type": "code",
   "execution_count": 103,
   "metadata": {},
   "outputs": [
    {
     "name": "stdout",
     "output_type": "stream",
     "text": [
      "Equal?=False\n",
      "(-1, 1)\n"
     ]
    }
   ],
   "source": [
    "def isStrictlyDetermined(A):    \n",
    "#     print (A)\n",
    "    minimax=np.max (np.min (A, axis=0))\n",
    "    maximin=np.min (np.max (A, axis=1))\n",
    "    \n",
    "    print ('Equal?=' + str (minimax==maximin))\n",
    "    \n",
    "    return minimax, maximin \n",
    "    \n",
    "print (isStrictlyDetermined(A))    "
   ]
  },
  {
   "cell_type": "markdown",
   "metadata": {},
   "source": [
    "## Calculating Optimal mixed strategies \n",
    "the value of the game for a 2 × 2 payoff matrix with no Saddle Point CAN BE FOUND algebraically\n",
    "\n",
    "See http://www.math.mcgill.ca/vetta/CS764.dir/Lemke.pdf\n",
    "https://www.rand.org/content/dam/rand/pubs/reports/2006/R1538.pdf\n"
   ]
  },
  {
   "cell_type": "markdown",
   "metadata": {},
   "source": [
    "The expected value of R’s payof:\n",
    "\n",
    "$$\\begin{split}=X'*A*Y \\end{split}$$\n",
    "\n",
    "Which Results in Optimal mixed strategies:\n",
    "\n",
    "$$ H = \n",
    "  \\begin{matrix}\\begin{pmatrix}x & y\\end{pmatrix}\\\\\\mbox{}\\end{matrix}\n",
    "  \\begin{pmatrix} a & b \\\\ c & d \\end{pmatrix} \n",
    "  \\begin{pmatrix} x \\\\ y \\end{pmatrix}\n",
    "$$\n",
    "\n",
    "\n"
   ]
  },
  {
   "cell_type": "markdown",
   "metadata": {},
   "source": [
    "# RPS game"
   ]
  },
  {
   "cell_type": "code",
   "execution_count": 24,
   "metadata": {
    "collapsed": true
   },
   "outputs": [],
   "source": [
    "A = np.array([[0,  -1, 1],\n",
    "               [1,  0,  -1 ],\n",
    "               [-1, 1, 0 ]])\n"
   ]
  },
  {
   "cell_type": "code",
   "execution_count": null,
   "metadata": {
    "collapsed": true
   },
   "outputs": [],
   "source": [
    "# https://github.com/s3rvac/lemke-howson/blob/master/src/lh.py"
   ]
  },
  {
   "cell_type": "code",
   "execution_count": 94,
   "metadata": {},
   "outputs": [
    {
     "data": {
      "text/plain": [
       "(array([ 0.33333333,  0.33333333,  0.33333333]),\n",
       " array([ 0.33333333,  0.33333333,  0.33333333]))"
      ]
     },
     "execution_count": 94,
     "metadata": {},
     "output_type": "execute_result"
    }
   ],
   "source": [
    "# Verify with http://banach.lse.ac.uk/\n",
    "\n",
    "# A = np.array([[1, 2], [3, 1]])\n",
    "\n",
    "matching_pennies = nash.Game(A)\n",
    "matching_pennies.lemke_howson(initial_dropped_label=0)"
   ]
  },
  {
   "cell_type": "code",
   "execution_count": null,
   "metadata": {
    "collapsed": true
   },
   "outputs": [],
   "source": []
  },
  {
   "cell_type": "code",
   "execution_count": null,
   "metadata": {
    "collapsed": true
   },
   "outputs": [],
   "source": []
  },
  {
   "cell_type": "code",
   "execution_count": null,
   "metadata": {
    "collapsed": true
   },
   "outputs": [],
   "source": []
  },
  {
   "cell_type": "code",
   "execution_count": null,
   "metadata": {
    "collapsed": true
   },
   "outputs": [],
   "source": []
  },
  {
   "cell_type": "code",
   "execution_count": null,
   "metadata": {
    "collapsed": true
   },
   "outputs": [],
   "source": []
  },
  {
   "cell_type": "code",
   "execution_count": null,
   "metadata": {
    "collapsed": true
   },
   "outputs": [],
   "source": []
  },
  {
   "cell_type": "code",
   "execution_count": null,
   "metadata": {
    "collapsed": true
   },
   "outputs": [],
   "source": []
  },
  {
   "cell_type": "code",
   "execution_count": 4,
   "metadata": {},
   "outputs": [
    {
     "name": "stdout",
     "output_type": "stream",
     "text": [
      "[[ 0.40234375  0.19921875  0.3984375 ]\n",
      " [ 0.3984375   0.203125    0.3984375 ]\n",
      " [ 0.3984375   0.19921875  0.40234375]]\n"
     ]
    }
   ],
   "source": [
    "\"\"\"This module provides a representation of matrices and some common\n",
    "functions operating on matrices.\"\"\"\n",
    "\n",
    "def dotPower(m,n):\n",
    "    tp = np.array(m)\n",
    "    for i in range(1,n):\n",
    "        tp=tp.dot(tp)\n",
    "    return tp        \n",
    "    \n",
    "# tp= tp.dot(tp)\n",
    "# print tp\n",
    "\n",
    "tp_power= dotPower(tp,3)\n",
    "print tp_power"
   ]
  },
  {
   "cell_type": "markdown",
   "metadata": {},
   "source": [
    "# TF"
   ]
  },
  {
   "cell_type": "code",
   "execution_count": 5,
   "metadata": {},
   "outputs": [
    {
     "name": "stdout",
     "output_type": "stream",
     "text": [
      "[[ 0.4375  0.1875  0.375 ]\n",
      " [ 0.375   0.25    0.375 ]\n",
      " [ 0.375   0.1875  0.4375]]\n"
     ]
    }
   ],
   "source": [
    "import numpy as np\n",
    "\n",
    "def dotTF(m):\n",
    "    #define session\n",
    "    s=tf.Session()\n",
    "    s.run(tf.global_variables_initializer())\n",
    "\n",
    "    with s:                \n",
    "        xmat_1_plh = tf.placeholder(dtype=m.dtype, shape=m.shape)\n",
    "        xmat_2_plh = tf.placeholder(dtype=m.dtype, shape=m.shape)                  \n",
    "        r1 = tf.matmul(xmat_1_plh, xmat_2_plh)                \n",
    "        qq1 = s.run(r1, feed_dict={xmat_1_plh: m , xmat_2_plh: m})\n",
    "    return qq1 \n",
    "\n",
    "\n",
    "def dotPowerTF(m,n,s):    \n",
    "    for i in range(1,n):\n",
    "        m=dotTF(m,s)                     \n",
    "    return m            \n",
    "\n",
    "mat_1=tp\n",
    "\n",
    "m_tf=mat_1    \n",
    "m_tf=dotTF(m_tf)\n",
    "# m_tf=dotTF(m_tf)\n",
    "# m_tf=dotTF(m_tf)\n",
    "# m_tf=dotTF(m_tf)\n",
    "\n",
    "print m_tf\n",
    "# print m_tf\n",
    "# b=dotPowerTF(mat_1,5,s)\n",
    "# print b\n",
    "\n"
   ]
  },
  {
   "cell_type": "code",
   "execution_count": null,
   "metadata": {
    "collapsed": true
   },
   "outputs": [],
   "source": [
    "def calcUtilityTF(x,A,y):    \n",
    "    s=tf.Session()\n",
    "    s.run(tf.global_variables_initializer())\n",
    "    with s:\n",
    "        x_plh = tf.constant(x, dtype=tf.float64)\n",
    "        y_plh = tf.constant(y, dtype=tf.float64)\n",
    "        \n",
    "        A_plh = tf.constant(A, dtype=tf.float64)        \n",
    "#         H=((tf.reduce_sum(tf.multiply(tf.expand_dims(x_plh,-1), A_plh), axis=0)).eval())\n",
    "#         H=((tf.reduce_sum(tf.multiply(tf.expand_dims(x_plh,-1), A_plh), axis=0)).eval())                \n",
    "#         print((tf.reduce_sum(tf.multiply(x_plh, tf.transpose(A_plh)), axis=1)).eval())\n",
    "\n",
    "        # Note tf.multiply is equivalent to \"*\"\n",
    "        x_plh=((tf.reduce_sum(tf.expand_dims(x_plh,-1) * A_plh, axis=0)).eval())\n",
    "        print((tf.reduce_sum(y_plh * tf.transpose(A_plh), axis=1)).eval())\n",
    "\n",
    "        \n",
    "#         r1=tf.matmul(tf.expand_dims(x_plh,0), A_plh)        \n",
    "#         qq1 = s.run(r1, feed_dict={x_plh: x , A_plh: A})\n",
    "#     return qq1 \n",
    "\n",
    "# a_tf=A\n",
    "# a_tf=calcUtilityTF(x,a_tf,y)"
   ]
  },
  {
   "cell_type": "code",
   "execution_count": null,
   "metadata": {
    "collapsed": true
   },
   "outputs": [],
   "source": []
  },
  {
   "cell_type": "code",
   "execution_count": null,
   "metadata": {
    "collapsed": true
   },
   "outputs": [],
   "source": []
  },
  {
   "cell_type": "code",
   "execution_count": null,
   "metadata": {
    "collapsed": true
   },
   "outputs": [],
   "source": []
  }
 ],
 "metadata": {
  "kernelspec": {
   "display_name": "Python 2",
   "language": "python",
   "name": "python2"
  },
  "language_info": {
   "codemirror_mode": {
    "name": "ipython",
    "version": 2
   },
   "file_extension": ".py",
   "mimetype": "text/x-python",
   "name": "python",
   "nbconvert_exporter": "python",
   "pygments_lexer": "ipython2",
   "version": "2.7.6"
  }
 },
 "nbformat": 4,
 "nbformat_minor": 2
}
